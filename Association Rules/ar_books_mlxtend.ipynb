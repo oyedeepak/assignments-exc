{
 "cells": [
  {
   "cell_type": "code",
   "execution_count": 14,
   "metadata": {},
   "outputs": [],
   "source": [
    "import numpy as np \n",
    "import pandas as pd \n",
    "import matplotlib.pyplot as plt\n",
    "\n",
    "from mlxtend.frequent_patterns import apriori, association_rules "
   ]
  },
  {
   "cell_type": "code",
   "execution_count": 15,
   "metadata": {},
   "outputs": [],
   "source": [
    "df = pd.read_csv(r\"C:\\Users\\oyedeepak\\Downloads\\Assignment\\Association Rules\\book.csv\")"
   ]
  },
  {
   "cell_type": "code",
   "execution_count": 16,
   "metadata": {},
   "outputs": [
    {
     "data": {
      "text/html": [
       "<div>\n",
       "<style scoped>\n",
       "    .dataframe tbody tr th:only-of-type {\n",
       "        vertical-align: middle;\n",
       "    }\n",
       "\n",
       "    .dataframe tbody tr th {\n",
       "        vertical-align: top;\n",
       "    }\n",
       "\n",
       "    .dataframe thead th {\n",
       "        text-align: right;\n",
       "    }\n",
       "</style>\n",
       "<table border=\"1\" class=\"dataframe\">\n",
       "  <thead>\n",
       "    <tr style=\"text-align: right;\">\n",
       "      <th></th>\n",
       "      <th>ChildBks</th>\n",
       "      <th>YouthBks</th>\n",
       "      <th>CookBks</th>\n",
       "      <th>DoItYBks</th>\n",
       "      <th>RefBks</th>\n",
       "      <th>ArtBks</th>\n",
       "      <th>GeogBks</th>\n",
       "      <th>ItalCook</th>\n",
       "      <th>ItalAtlas</th>\n",
       "      <th>ItalArt</th>\n",
       "      <th>Florence</th>\n",
       "    </tr>\n",
       "  </thead>\n",
       "  <tbody>\n",
       "    <tr>\n",
       "      <td>0</td>\n",
       "      <td>0</td>\n",
       "      <td>1</td>\n",
       "      <td>0</td>\n",
       "      <td>1</td>\n",
       "      <td>0</td>\n",
       "      <td>0</td>\n",
       "      <td>1</td>\n",
       "      <td>0</td>\n",
       "      <td>0</td>\n",
       "      <td>0</td>\n",
       "      <td>0</td>\n",
       "    </tr>\n",
       "    <tr>\n",
       "      <td>1</td>\n",
       "      <td>1</td>\n",
       "      <td>0</td>\n",
       "      <td>0</td>\n",
       "      <td>0</td>\n",
       "      <td>0</td>\n",
       "      <td>0</td>\n",
       "      <td>0</td>\n",
       "      <td>0</td>\n",
       "      <td>0</td>\n",
       "      <td>0</td>\n",
       "      <td>0</td>\n",
       "    </tr>\n",
       "    <tr>\n",
       "      <td>2</td>\n",
       "      <td>0</td>\n",
       "      <td>0</td>\n",
       "      <td>0</td>\n",
       "      <td>0</td>\n",
       "      <td>0</td>\n",
       "      <td>0</td>\n",
       "      <td>0</td>\n",
       "      <td>0</td>\n",
       "      <td>0</td>\n",
       "      <td>0</td>\n",
       "      <td>0</td>\n",
       "    </tr>\n",
       "    <tr>\n",
       "      <td>3</td>\n",
       "      <td>1</td>\n",
       "      <td>1</td>\n",
       "      <td>1</td>\n",
       "      <td>0</td>\n",
       "      <td>1</td>\n",
       "      <td>0</td>\n",
       "      <td>1</td>\n",
       "      <td>0</td>\n",
       "      <td>0</td>\n",
       "      <td>0</td>\n",
       "      <td>0</td>\n",
       "    </tr>\n",
       "    <tr>\n",
       "      <td>4</td>\n",
       "      <td>0</td>\n",
       "      <td>0</td>\n",
       "      <td>1</td>\n",
       "      <td>0</td>\n",
       "      <td>0</td>\n",
       "      <td>0</td>\n",
       "      <td>1</td>\n",
       "      <td>0</td>\n",
       "      <td>0</td>\n",
       "      <td>0</td>\n",
       "      <td>0</td>\n",
       "    </tr>\n",
       "  </tbody>\n",
       "</table>\n",
       "</div>"
      ],
      "text/plain": [
       "   ChildBks  YouthBks  CookBks  DoItYBks  RefBks  ArtBks  GeogBks  ItalCook  \\\n",
       "0         0         1        0         1       0       0        1         0   \n",
       "1         1         0        0         0       0       0        0         0   \n",
       "2         0         0        0         0       0       0        0         0   \n",
       "3         1         1        1         0       1       0        1         0   \n",
       "4         0         0        1         0       0       0        1         0   \n",
       "\n",
       "   ItalAtlas  ItalArt  Florence  \n",
       "0          0        0         0  \n",
       "1          0        0         0  \n",
       "2          0        0         0  \n",
       "3          0        0         0  \n",
       "4          0        0         0  "
      ]
     },
     "execution_count": 16,
     "metadata": {},
     "output_type": "execute_result"
    }
   ],
   "source": [
    "df.head()"
   ]
  },
  {
   "cell_type": "code",
   "execution_count": 17,
   "metadata": {},
   "outputs": [
    {
     "data": {
      "text/plain": [
       "2000"
      ]
     },
     "execution_count": 17,
     "metadata": {},
     "output_type": "execute_result"
    }
   ],
   "source": [
    "len(df)"
   ]
  },
  {
   "cell_type": "code",
   "execution_count": 18,
   "metadata": {},
   "outputs": [
    {
     "name": "stdout",
     "output_type": "stream",
     "text": [
      "   support    itemsets\n",
      "0   0.4230  (ChildBks)\n",
      "1   0.2475  (YouthBks)\n",
      "2   0.4310   (CookBks)\n",
      "3   0.2820  (DoItYBks)\n",
      "4   0.2145    (RefBks)\n"
     ]
    }
   ],
   "source": [
    "frequent_itemsets = apriori(df, min_support=0.1, use_colnames=True)\n",
    "print (frequent_itemsets.head())"
   ]
  },
  {
   "cell_type": "code",
   "execution_count": 19,
   "metadata": {},
   "outputs": [
    {
     "data": {
      "image/png": "[encoded data removed]",
      "text/plain": [
       "<Figure size 432x288 with 1 Axes>"
      ]
     },
     "metadata": {
      "needs_background": "light"
     },
     "output_type": "display_data"
    }
   ],
   "source": [
    "# Most Frequent item sets based on support \n",
    "frequent_itemsets.sort_values('support',ascending = False, inplace=True)\n",
    "plt.barh(list(range(1,11)),frequent_itemsets.support[1:11],color='bgcmyr')\n",
    "plt.yticks(list(range(1,11)),frequent_itemsets.itemsets[1:11])\n",
    "plt.ylabel('Books-Support')\n",
    "plt.xlabel('support')\n",
    "plt.show()"
   ]
  },
  {
   "cell_type": "code",
   "execution_count": 20,
   "metadata": {},
   "outputs": [
    {
     "data": {
      "text/html": [
       "<div>\n",
       "<style scoped>\n",
       "    .dataframe tbody tr th:only-of-type {\n",
       "        vertical-align: middle;\n",
       "    }\n",
       "\n",
       "    .dataframe tbody tr th {\n",
       "        vertical-align: top;\n",
       "    }\n",
       "\n",
       "    .dataframe thead th {\n",
       "        text-align: right;\n",
       "    }\n",
       "</style>\n",
       "<table border=\"1\" class=\"dataframe\">\n",
       "  <thead>\n",
       "    <tr style=\"text-align: right;\">\n",
       "      <th></th>\n",
       "      <th>antecedents</th>\n",
       "      <th>consequents</th>\n",
       "      <th>antecedent support</th>\n",
       "      <th>consequent support</th>\n",
       "      <th>support</th>\n",
       "      <th>confidence</th>\n",
       "      <th>lift</th>\n",
       "      <th>leverage</th>\n",
       "      <th>conviction</th>\n",
       "    </tr>\n",
       "  </thead>\n",
       "  <tbody>\n",
       "    <tr>\n",
       "      <td>0</td>\n",
       "      <td>GeogBks</td>\n",
       "      <td>ChildBks</td>\n",
       "      <td>0.2760</td>\n",
       "      <td>0.423</td>\n",
       "      <td>0.1950</td>\n",
       "      <td>0.706522</td>\n",
       "      <td>1.670264</td>\n",
       "      <td>0.078252</td>\n",
       "      <td>1.966074</td>\n",
       "    </tr>\n",
       "    <tr>\n",
       "      <td>1</td>\n",
       "      <td>RefBks</td>\n",
       "      <td>CookBks</td>\n",
       "      <td>0.2145</td>\n",
       "      <td>0.431</td>\n",
       "      <td>0.1525</td>\n",
       "      <td>0.710956</td>\n",
       "      <td>1.649549</td>\n",
       "      <td>0.060050</td>\n",
       "      <td>1.968556</td>\n",
       "    </tr>\n",
       "    <tr>\n",
       "      <td>2</td>\n",
       "      <td>RefBks</td>\n",
       "      <td>ChildBks</td>\n",
       "      <td>0.2145</td>\n",
       "      <td>0.423</td>\n",
       "      <td>0.1515</td>\n",
       "      <td>0.706294</td>\n",
       "      <td>1.669725</td>\n",
       "      <td>0.060767</td>\n",
       "      <td>1.964548</td>\n",
       "    </tr>\n",
       "    <tr>\n",
       "      <td>3</td>\n",
       "      <td>CookBks</td>\n",
       "      <td>ChildBks</td>\n",
       "      <td>0.1925</td>\n",
       "      <td>0.423</td>\n",
       "      <td>0.1495</td>\n",
       "      <td>0.776623</td>\n",
       "      <td>1.835989</td>\n",
       "      <td>0.068072</td>\n",
       "      <td>2.583081</td>\n",
       "    </tr>\n",
       "    <tr>\n",
       "      <td>4</td>\n",
       "      <td>GeogBks</td>\n",
       "      <td>CookBks</td>\n",
       "      <td>0.1950</td>\n",
       "      <td>0.431</td>\n",
       "      <td>0.1495</td>\n",
       "      <td>0.766667</td>\n",
       "      <td>1.778809</td>\n",
       "      <td>0.065455</td>\n",
       "      <td>2.438571</td>\n",
       "    </tr>\n",
       "  </tbody>\n",
       "</table>\n",
       "</div>"
      ],
      "text/plain": [
       "  antecedents consequents  antecedent support  consequent support  support  \\\n",
       "0     GeogBks    ChildBks              0.2760               0.423   0.1950   \n",
       "1      RefBks     CookBks              0.2145               0.431   0.1525   \n",
       "2      RefBks    ChildBks              0.2145               0.423   0.1515   \n",
       "3     CookBks    ChildBks              0.1925               0.423   0.1495   \n",
       "4     GeogBks     CookBks              0.1950               0.431   0.1495   \n",
       "\n",
       "   confidence      lift  leverage  conviction  \n",
       "0    0.706522  1.670264  0.078252    1.966074  \n",
       "1    0.710956  1.649549  0.060050    1.968556  \n",
       "2    0.706294  1.669725  0.060767    1.964548  \n",
       "3    0.776623  1.835989  0.068072    2.583081  \n",
       "4    0.766667  1.778809  0.065455    2.438571  "
      ]
     },
     "execution_count": 20,
     "metadata": {},
     "output_type": "execute_result"
    }
   ],
   "source": [
    "#association_rules(frequent_itemsets, metric=\"confidence\", min_threshold=0.7)\n",
    "rules = association_rules(frequent_itemsets, metric=\"confidence\", min_threshold=0.7)\n",
    "\n",
    "rules.antecedents = rules.antecedents.apply(lambda x: next(iter(x)))\n",
    "rules.consequents = rules.consequents.apply(lambda x: next(iter(x)))\n",
    "rules.head()"
   ]
  },
  {
   "cell_type": "code",
   "execution_count": 21,
   "metadata": {},
   "outputs": [
    {
     "data": {
      "image/png": "[encoded data removed]",
      "text/plain": [
       "<Figure size 720x576 with 1 Axes>"
      ]
     },
     "metadata": {},
     "output_type": "display_data"
    }
   ],
   "source": [
    "import networkx as nx\n",
    "\n",
    "\n",
    "fig, ax=plt.subplots(figsize=(10,8))\n",
    "GA=nx.from_pandas_edgelist(rules,source='antecedents',target='consequents')\n",
    "nx.draw(GA,with_labels=True)\n",
    "plt.show()"
   ]
  },
  {
   "cell_type": "code",
   "execution_count": 22,
   "metadata": {},
   "outputs": [],
   "source": [
    "# Conclusion:\n",
    "#Cook books and child books are the most sold items."
   ]
  },
  {
   "cell_type": "code",
   "execution_count": null,
   "metadata": {},
   "outputs": [],
   "source": []
  }
 ],
 "metadata": {
  "kernelspec": {
   "display_name": "Python 3",
   "language": "python",
   "name": "python3"
  },
  "language_info": {
   "codemirror_mode": {
    "name": "ipython",
    "version": 3
   },
   "file_extension": ".py",
   "mimetype": "text/x-python",
   "name": "python",
   "nbconvert_exporter": "python",
   "pygments_lexer": "ipython3",
   "version": "3.7.4"
  }
 },
 "nbformat": 4,
 "nbformat_minor": 2
}
