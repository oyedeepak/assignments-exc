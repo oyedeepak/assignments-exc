{
 "cells": [
  {
   "cell_type": "code",
   "execution_count": 26,
   "metadata": {},
   "outputs": [],
   "source": [
    "import pandas as pd\n",
    "import numpy as np\n",
    "%matplotlib inline"
   ]
  },
  {
   "cell_type": "code",
   "execution_count": 27,
   "metadata": {},
   "outputs": [
    {
     "data": {
      "text/html": [
       "<div>\n",
       "<style scoped>\n",
       "    .dataframe tbody tr th:only-of-type {\n",
       "        vertical-align: middle;\n",
       "    }\n",
       "\n",
       "    .dataframe tbody tr th {\n",
       "        vertical-align: top;\n",
       "    }\n",
       "\n",
       "    .dataframe thead th {\n",
       "        text-align: right;\n",
       "    }\n",
       "</style>\n",
       "<table border=\"1\" class=\"dataframe\">\n",
       "  <thead>\n",
       "    <tr style=\"text-align: right;\">\n",
       "      <th></th>\n",
       "      <th>Sales</th>\n",
       "    </tr>\n",
       "    <tr>\n",
       "      <th>Quarter</th>\n",
       "      <th></th>\n",
       "    </tr>\n",
       "  </thead>\n",
       "  <tbody>\n",
       "    <tr>\n",
       "      <td>Q1_86</td>\n",
       "      <td>1734.827000</td>\n",
       "    </tr>\n",
       "    <tr>\n",
       "      <td>Q2_86</td>\n",
       "      <td>2244.960999</td>\n",
       "    </tr>\n",
       "    <tr>\n",
       "      <td>Q3_86</td>\n",
       "      <td>2533.804993</td>\n",
       "    </tr>\n",
       "    <tr>\n",
       "      <td>Q4_86</td>\n",
       "      <td>2154.962997</td>\n",
       "    </tr>\n",
       "    <tr>\n",
       "      <td>Q1_87</td>\n",
       "      <td>1547.818996</td>\n",
       "    </tr>\n",
       "  </tbody>\n",
       "</table>\n",
       "</div>"
      ],
      "text/plain": [
       "               Sales\n",
       "Quarter             \n",
       "Q1_86    1734.827000\n",
       "Q2_86    2244.960999\n",
       "Q3_86    2533.804993\n",
       "Q4_86    2154.962997\n",
       "Q1_87    1547.818996"
      ]
     },
     "execution_count": 27,
     "metadata": {},
     "output_type": "execute_result"
    }
   ],
   "source": [
    "df= pd.read_csv('C:\\\\Users\\\\oyedeepak\\\\Downloads\\\\Assignment\\\\Forecasting\\\\CocaCola.csv', index_col= 'Quarter', parse_dates= True)\n",
    "df.head()"
   ]
  },
  {
   "cell_type": "code",
   "execution_count": 28,
   "metadata": {},
   "outputs": [
    {
     "data": {
      "text/plain": [
       "Index(['Q1_86', 'Q2_86', 'Q3_86', 'Q4_86', 'Q1_87', 'Q2_87', 'Q3_87', 'Q4_87',\n",
       "       'Q1_88', 'Q2_88', 'Q3_88', 'Q4_88', 'Q1_89', 'Q2_89', 'Q3_89', 'Q4_89',\n",
       "       'Q1_90', 'Q2_90', 'Q3_90', 'Q4_90', 'Q1_91', 'Q2_91', 'Q3_91', 'Q4_91',\n",
       "       'Q1_92', 'Q2_92', 'Q3_92', 'Q4_92', 'Q1_93', 'Q2_93', 'Q3_93', 'Q4_93',\n",
       "       'Q1_94', 'Q2_94', 'Q3_94', 'Q4_94', 'Q1_95', 'Q2_95', 'Q3_95', 'Q4_95',\n",
       "       'Q1_96', 'Q2_96'],\n",
       "      dtype='object', name='Quarter')"
      ]
     },
     "execution_count": 28,
     "metadata": {},
     "output_type": "execute_result"
    }
   ],
   "source": [
    "df.index"
   ]
  },
  {
   "cell_type": "code",
   "execution_count": 29,
   "metadata": {},
   "outputs": [
    {
     "data": {
      "text/plain": [
       "Index(['Q1_86', 'Q2_86', 'Q3_86', 'Q4_86', 'Q1_87', 'Q2_87', 'Q3_87', 'Q4_87',\n",
       "       'Q1_88', 'Q2_88', 'Q3_88', 'Q4_88', 'Q1_89', 'Q2_89', 'Q3_89', 'Q4_89',\n",
       "       'Q1_90', 'Q2_90', 'Q3_90', 'Q4_90', 'Q1_91', 'Q2_91', 'Q3_91', 'Q4_91',\n",
       "       'Q1_92', 'Q2_92', 'Q3_92', 'Q4_92', 'Q1_93', 'Q2_93', 'Q3_93', 'Q4_93',\n",
       "       'Q1_94', 'Q2_94', 'Q3_94', 'Q4_94', 'Q1_95', 'Q2_95', 'Q3_95', 'Q4_95',\n",
       "       'Q1_96', 'Q2_96'],\n",
       "      dtype='object', name='Quarter')"
      ]
     },
     "execution_count": 29,
     "metadata": {},
     "output_type": "execute_result"
    }
   ],
   "source": [
    "df.index.freq= 'BQS'\n",
    "df.index"
   ]
  },
  {
   "cell_type": "code",
   "execution_count": 30,
   "metadata": {},
   "outputs": [
    {
     "data": {
      "text/html": [
       "<div>\n",
       "<style scoped>\n",
       "    .dataframe tbody tr th:only-of-type {\n",
       "        vertical-align: middle;\n",
       "    }\n",
       "\n",
       "    .dataframe tbody tr th {\n",
       "        vertical-align: top;\n",
       "    }\n",
       "\n",
       "    .dataframe thead th {\n",
       "        text-align: right;\n",
       "    }\n",
       "</style>\n",
       "<table border=\"1\" class=\"dataframe\">\n",
       "  <thead>\n",
       "    <tr style=\"text-align: right;\">\n",
       "      <th></th>\n",
       "      <th>Sales</th>\n",
       "    </tr>\n",
       "    <tr>\n",
       "      <th>Quarter</th>\n",
       "      <th></th>\n",
       "    </tr>\n",
       "  </thead>\n",
       "  <tbody>\n",
       "    <tr>\n",
       "      <td>Q1_86</td>\n",
       "      <td>1734.827000</td>\n",
       "    </tr>\n",
       "    <tr>\n",
       "      <td>Q2_86</td>\n",
       "      <td>2244.960999</td>\n",
       "    </tr>\n",
       "    <tr>\n",
       "      <td>Q3_86</td>\n",
       "      <td>2533.804993</td>\n",
       "    </tr>\n",
       "    <tr>\n",
       "      <td>Q4_86</td>\n",
       "      <td>2154.962997</td>\n",
       "    </tr>\n",
       "    <tr>\n",
       "      <td>Q1_87</td>\n",
       "      <td>1547.818996</td>\n",
       "    </tr>\n",
       "  </tbody>\n",
       "</table>\n",
       "</div>"
      ],
      "text/plain": [
       "               Sales\n",
       "Quarter             \n",
       "Q1_86    1734.827000\n",
       "Q2_86    2244.960999\n",
       "Q3_86    2533.804993\n",
       "Q4_86    2154.962997\n",
       "Q1_87    1547.818996"
      ]
     },
     "execution_count": 30,
     "metadata": {},
     "output_type": "execute_result"
    }
   ],
   "source": [
    "df.head()"
   ]
  },
  {
   "cell_type": "code",
   "execution_count": 31,
   "metadata": {},
   "outputs": [
    {
     "data": {
      "text/plain": [
       "<matplotlib.axes._subplots.AxesSubplot at 0x2ad40750308>"
      ]
     },
     "execution_count": 31,
     "metadata": {},
     "output_type": "execute_result"
    },
    {
     "data": {
      "image/png": "[encoded data removed]",
      "text/plain": [
       "<Figure size 432x288 with 1 Axes>"
      ]
     },
     "metadata": {
      "needs_background": "light"
     },
     "output_type": "display_data"
    }
   ],
   "source": [
    "df['Sales'].plot()"
   ]
  },
  {
   "cell_type": "code",
   "execution_count": 32,
   "metadata": {},
   "outputs": [],
   "source": [
    "### Simple Exponential Smoothing ###\n",
    "\n",
    "from statsmodels.tsa.holtwinters import SimpleExpSmoothing\n",
    "span = 4\n",
    "alpha= 2/(span+1)\n",
    "\n",
    "df['EWMA12']= df['Sales'].ewm(alpha= alpha, adjust= False).mean()"
   ]
  },
  {
   "cell_type": "code",
   "execution_count": 33,
   "metadata": {},
   "outputs": [
    {
     "name": "stderr",
     "output_type": "stream",
     "text": [
      "C:\\Users\\oyedeepak\\Anaconda3\\lib\\site-packages\\statsmodels\\tsa\\base\\tsa_model.py:215: ValueWarning: An unsupported index was provided and will be ignored when e.g. forecasting.\n",
      "  ' ignored when e.g. forecasting.', ValueWarning)\n"
     ]
    },
    {
     "data": {
      "text/html": [
       "<div>\n",
       "<style scoped>\n",
       "    .dataframe tbody tr th:only-of-type {\n",
       "        vertical-align: middle;\n",
       "    }\n",
       "\n",
       "    .dataframe tbody tr th {\n",
       "        vertical-align: top;\n",
       "    }\n",
       "\n",
       "    .dataframe thead th {\n",
       "        text-align: right;\n",
       "    }\n",
       "</style>\n",
       "<table border=\"1\" class=\"dataframe\">\n",
       "  <thead>\n",
       "    <tr style=\"text-align: right;\">\n",
       "      <th></th>\n",
       "      <th>Sales</th>\n",
       "      <th>EWMA12</th>\n",
       "      <th>SES12</th>\n",
       "    </tr>\n",
       "    <tr>\n",
       "      <th>Quarter</th>\n",
       "      <th></th>\n",
       "      <th></th>\n",
       "      <th></th>\n",
       "    </tr>\n",
       "  </thead>\n",
       "  <tbody>\n",
       "    <tr>\n",
       "      <td>Q1_86</td>\n",
       "      <td>1734.827000</td>\n",
       "      <td>1734.827000</td>\n",
       "      <td>1734.827000</td>\n",
       "    </tr>\n",
       "    <tr>\n",
       "      <td>Q2_86</td>\n",
       "      <td>2244.960999</td>\n",
       "      <td>1938.880600</td>\n",
       "      <td>1938.880600</td>\n",
       "    </tr>\n",
       "    <tr>\n",
       "      <td>Q3_86</td>\n",
       "      <td>2533.804993</td>\n",
       "      <td>2176.850357</td>\n",
       "      <td>2176.850357</td>\n",
       "    </tr>\n",
       "    <tr>\n",
       "      <td>Q4_86</td>\n",
       "      <td>2154.962997</td>\n",
       "      <td>2168.095413</td>\n",
       "      <td>2168.095413</td>\n",
       "    </tr>\n",
       "    <tr>\n",
       "      <td>Q1_87</td>\n",
       "      <td>1547.818996</td>\n",
       "      <td>1919.984846</td>\n",
       "      <td>1919.984846</td>\n",
       "    </tr>\n",
       "  </tbody>\n",
       "</table>\n",
       "</div>"
      ],
      "text/plain": [
       "               Sales       EWMA12        SES12\n",
       "Quarter                                       \n",
       "Q1_86    1734.827000  1734.827000  1734.827000\n",
       "Q2_86    2244.960999  1938.880600  1938.880600\n",
       "Q3_86    2533.804993  2176.850357  2176.850357\n",
       "Q4_86    2154.962997  2168.095413  2168.095413\n",
       "Q1_87    1547.818996  1919.984846  1919.984846"
      ]
     },
     "execution_count": 33,
     "metadata": {},
     "output_type": "execute_result"
    }
   ],
   "source": [
    "model_ses12=SimpleExpSmoothing(df['Sales'])\n",
    "fitted_model= model_ses12.fit(smoothing_level=alpha,optimized=False)\n",
    "df['SES12'] = fitted_model.fittedvalues.shift(-1)\n",
    "df.head()"
   ]
  },
  {
   "cell_type": "code",
   "execution_count": 34,
   "metadata": {},
   "outputs": [
    {
     "name": "stderr",
     "output_type": "stream",
     "text": [
      "C:\\Users\\oyedeepak\\Anaconda3\\lib\\site-packages\\statsmodels\\tsa\\base\\tsa_model.py:215: ValueWarning: An unsupported index was provided and will be ignored when e.g. forecasting.\n",
      "  ' ignored when e.g. forecasting.', ValueWarning)\n"
     ]
    },
    {
     "data": {
      "text/html": [
       "<div>\n",
       "<style scoped>\n",
       "    .dataframe tbody tr th:only-of-type {\n",
       "        vertical-align: middle;\n",
       "    }\n",
       "\n",
       "    .dataframe tbody tr th {\n",
       "        vertical-align: top;\n",
       "    }\n",
       "\n",
       "    .dataframe thead th {\n",
       "        text-align: right;\n",
       "    }\n",
       "</style>\n",
       "<table border=\"1\" class=\"dataframe\">\n",
       "  <thead>\n",
       "    <tr style=\"text-align: right;\">\n",
       "      <th></th>\n",
       "      <th>Sales</th>\n",
       "      <th>EWMA12</th>\n",
       "      <th>SES12</th>\n",
       "      <th>DESadd12</th>\n",
       "    </tr>\n",
       "    <tr>\n",
       "      <th>Quarter</th>\n",
       "      <th></th>\n",
       "      <th></th>\n",
       "      <th></th>\n",
       "      <th></th>\n",
       "    </tr>\n",
       "  </thead>\n",
       "  <tbody>\n",
       "    <tr>\n",
       "      <td>Q1_86</td>\n",
       "      <td>1734.827000</td>\n",
       "      <td>1734.827000</td>\n",
       "      <td>1734.827000</td>\n",
       "      <td>1990.803901</td>\n",
       "    </tr>\n",
       "    <tr>\n",
       "      <td>Q2_86</td>\n",
       "      <td>2244.960999</td>\n",
       "      <td>1938.880600</td>\n",
       "      <td>1938.880600</td>\n",
       "      <td>2061.642626</td>\n",
       "    </tr>\n",
       "    <tr>\n",
       "      <td>Q3_86</td>\n",
       "      <td>2533.804993</td>\n",
       "      <td>2176.850357</td>\n",
       "      <td>2176.850357</td>\n",
       "      <td>2195.010187</td>\n",
       "    </tr>\n",
       "    <tr>\n",
       "      <td>Q4_86</td>\n",
       "      <td>2154.962997</td>\n",
       "      <td>2168.095413</td>\n",
       "      <td>2168.095413</td>\n",
       "      <td>2224.280352</td>\n",
       "    </tr>\n",
       "    <tr>\n",
       "      <td>Q1_87</td>\n",
       "      <td>1547.818996</td>\n",
       "      <td>1919.984846</td>\n",
       "      <td>1919.984846</td>\n",
       "      <td>2099.117195</td>\n",
       "    </tr>\n",
       "  </tbody>\n",
       "</table>\n",
       "</div>"
      ],
      "text/plain": [
       "               Sales       EWMA12        SES12     DESadd12\n",
       "Quarter                                                    \n",
       "Q1_86    1734.827000  1734.827000  1734.827000  1990.803901\n",
       "Q2_86    2244.960999  1938.880600  1938.880600  2061.642626\n",
       "Q3_86    2533.804993  2176.850357  2176.850357  2195.010187\n",
       "Q4_86    2154.962997  2168.095413  2168.095413  2224.280352\n",
       "Q1_87    1547.818996  1919.984846  1919.984846  2099.117195"
      ]
     },
     "execution_count": 34,
     "metadata": {},
     "output_type": "execute_result"
    }
   ],
   "source": [
    "### Double Exponential Smoothing ###\n",
    "\n",
    "from statsmodels.tsa.holtwinters import ExponentialSmoothing\n",
    "\n",
    "mod_add12= ExponentialSmoothing(df['Sales'], trend = 'add')\n",
    "fitted_model= mod_add12.fit()\n",
    "df['DESadd12']= fitted_model.fittedvalues.shift(-1)\n",
    "df.head()"
   ]
  },
  {
   "cell_type": "code",
   "execution_count": 35,
   "metadata": {},
   "outputs": [
    {
     "data": {
      "image/png": "[encoded data removed]",
      "text/plain": [
       "<Figure size 864x432 with 1 Axes>"
      ]
     },
     "metadata": {
      "needs_background": "light"
     },
     "output_type": "display_data"
    }
   ],
   "source": [
    "df[['Sales','DESadd12','SES12']].iloc[:30].plot(figsize=(12,6)).autoscale(axis='x', tight= True)"
   ]
  },
  {
   "cell_type": "code",
   "execution_count": 36,
   "metadata": {},
   "outputs": [
    {
     "name": "stderr",
     "output_type": "stream",
     "text": [
      "C:\\Users\\oyedeepak\\Anaconda3\\lib\\site-packages\\statsmodels\\tsa\\base\\tsa_model.py:215: ValueWarning: An unsupported index was provided and will be ignored when e.g. forecasting.\n",
      "  ' ignored when e.g. forecasting.', ValueWarning)\n"
     ]
    },
    {
     "data": {
      "text/html": [
       "<div>\n",
       "<style scoped>\n",
       "    .dataframe tbody tr th:only-of-type {\n",
       "        vertical-align: middle;\n",
       "    }\n",
       "\n",
       "    .dataframe tbody tr th {\n",
       "        vertical-align: top;\n",
       "    }\n",
       "\n",
       "    .dataframe thead th {\n",
       "        text-align: right;\n",
       "    }\n",
       "</style>\n",
       "<table border=\"1\" class=\"dataframe\">\n",
       "  <thead>\n",
       "    <tr style=\"text-align: right;\">\n",
       "      <th></th>\n",
       "      <th>Sales</th>\n",
       "      <th>EWMA12</th>\n",
       "      <th>SES12</th>\n",
       "      <th>DESadd12</th>\n",
       "      <th>DESmul12</th>\n",
       "    </tr>\n",
       "    <tr>\n",
       "      <th>Quarter</th>\n",
       "      <th></th>\n",
       "      <th></th>\n",
       "      <th></th>\n",
       "      <th></th>\n",
       "      <th></th>\n",
       "    </tr>\n",
       "  </thead>\n",
       "  <tbody>\n",
       "    <tr>\n",
       "      <td>Q1_86</td>\n",
       "      <td>1734.827000</td>\n",
       "      <td>1734.827000</td>\n",
       "      <td>1734.827000</td>\n",
       "      <td>1990.803901</td>\n",
       "      <td>1841.191728</td>\n",
       "    </tr>\n",
       "    <tr>\n",
       "      <td>Q2_86</td>\n",
       "      <td>2244.960999</td>\n",
       "      <td>1938.880600</td>\n",
       "      <td>1938.880600</td>\n",
       "      <td>2061.642626</td>\n",
       "      <td>1923.881686</td>\n",
       "    </tr>\n",
       "    <tr>\n",
       "      <td>Q3_86</td>\n",
       "      <td>2533.804993</td>\n",
       "      <td>2176.850357</td>\n",
       "      <td>2176.850357</td>\n",
       "      <td>2195.010187</td>\n",
       "      <td>2133.183228</td>\n",
       "    </tr>\n",
       "    <tr>\n",
       "      <td>Q4_86</td>\n",
       "      <td>2154.962997</td>\n",
       "      <td>2168.095413</td>\n",
       "      <td>2168.095413</td>\n",
       "      <td>2224.280352</td>\n",
       "      <td>2159.648232</td>\n",
       "    </tr>\n",
       "    <tr>\n",
       "      <td>Q1_87</td>\n",
       "      <td>1547.818996</td>\n",
       "      <td>1919.984846</td>\n",
       "      <td>1919.984846</td>\n",
       "      <td>2099.117195</td>\n",
       "      <td>1929.222427</td>\n",
       "    </tr>\n",
       "  </tbody>\n",
       "</table>\n",
       "</div>"
      ],
      "text/plain": [
       "               Sales       EWMA12        SES12     DESadd12     DESmul12\n",
       "Quarter                                                                 \n",
       "Q1_86    1734.827000  1734.827000  1734.827000  1990.803901  1841.191728\n",
       "Q2_86    2244.960999  1938.880600  1938.880600  2061.642626  1923.881686\n",
       "Q3_86    2533.804993  2176.850357  2176.850357  2195.010187  2133.183228\n",
       "Q4_86    2154.962997  2168.095413  2168.095413  2224.280352  2159.648232\n",
       "Q1_87    1547.818996  1919.984846  1919.984846  2099.117195  1929.222427"
      ]
     },
     "execution_count": 36,
     "metadata": {},
     "output_type": "execute_result"
    }
   ],
   "source": [
    "df['DESmul12']= ExponentialSmoothing(df['Sales'], trend= 'mul').fit().fittedvalues.shift(-1)\n",
    "df.head()"
   ]
  },
  {
   "cell_type": "code",
   "execution_count": 37,
   "metadata": {},
   "outputs": [
    {
     "data": {
      "image/png": "[encoded data removed]",
      "text/plain": [
       "<Figure size 864x432 with 1 Axes>"
      ]
     },
     "metadata": {
      "needs_background": "light"
     },
     "output_type": "display_data"
    }
   ],
   "source": [
    "df[['Sales','DESadd12','DESmul12']].iloc[:30].plot(figsize=(12,6)).autoscale(axis='x', tight= True)"
   ]
  },
  {
   "cell_type": "code",
   "execution_count": 38,
   "metadata": {},
   "outputs": [
    {
     "name": "stderr",
     "output_type": "stream",
     "text": [
      "C:\\Users\\oyedeepak\\Anaconda3\\lib\\site-packages\\statsmodels\\tsa\\base\\tsa_model.py:215: ValueWarning: An unsupported index was provided and will be ignored when e.g. forecasting.\n",
      "  ' ignored when e.g. forecasting.', ValueWarning)\n",
      "C:\\Users\\oyedeepak\\Anaconda3\\lib\\site-packages\\statsmodels\\tsa\\holtwinters.py:712: ConvergenceWarning: Optimization failed to converge. Check mle_retvals.\n",
      "  ConvergenceWarning)\n"
     ]
    },
    {
     "data": {
      "text/html": [
       "<div>\n",
       "<style scoped>\n",
       "    .dataframe tbody tr th:only-of-type {\n",
       "        vertical-align: middle;\n",
       "    }\n",
       "\n",
       "    .dataframe tbody tr th {\n",
       "        vertical-align: top;\n",
       "    }\n",
       "\n",
       "    .dataframe thead th {\n",
       "        text-align: right;\n",
       "    }\n",
       "</style>\n",
       "<table border=\"1\" class=\"dataframe\">\n",
       "  <thead>\n",
       "    <tr style=\"text-align: right;\">\n",
       "      <th></th>\n",
       "      <th>Sales</th>\n",
       "      <th>EWMA12</th>\n",
       "      <th>SES12</th>\n",
       "      <th>DESadd12</th>\n",
       "      <th>DESmul12</th>\n",
       "      <th>TESadd12</th>\n",
       "    </tr>\n",
       "    <tr>\n",
       "      <th>Quarter</th>\n",
       "      <th></th>\n",
       "      <th></th>\n",
       "      <th></th>\n",
       "      <th></th>\n",
       "      <th></th>\n",
       "      <th></th>\n",
       "    </tr>\n",
       "  </thead>\n",
       "  <tbody>\n",
       "    <tr>\n",
       "      <td>Q1_86</td>\n",
       "      <td>1734.827000</td>\n",
       "      <td>1734.827000</td>\n",
       "      <td>1734.827000</td>\n",
       "      <td>1990.803901</td>\n",
       "      <td>1841.191728</td>\n",
       "      <td>1753.797680</td>\n",
       "    </tr>\n",
       "    <tr>\n",
       "      <td>Q2_86</td>\n",
       "      <td>2244.960999</td>\n",
       "      <td>1938.880600</td>\n",
       "      <td>1938.880600</td>\n",
       "      <td>2061.642626</td>\n",
       "      <td>1923.881686</td>\n",
       "      <td>2214.623543</td>\n",
       "    </tr>\n",
       "    <tr>\n",
       "      <td>Q3_86</td>\n",
       "      <td>2533.804993</td>\n",
       "      <td>2176.850357</td>\n",
       "      <td>2176.850357</td>\n",
       "      <td>2195.010187</td>\n",
       "      <td>2133.183228</td>\n",
       "      <td>2487.183098</td>\n",
       "    </tr>\n",
       "    <tr>\n",
       "      <td>Q4_86</td>\n",
       "      <td>2154.962997</td>\n",
       "      <td>2168.095413</td>\n",
       "      <td>2168.095413</td>\n",
       "      <td>2224.280352</td>\n",
       "      <td>2159.648232</td>\n",
       "      <td>2303.214445</td>\n",
       "    </tr>\n",
       "    <tr>\n",
       "      <td>Q1_87</td>\n",
       "      <td>1547.818996</td>\n",
       "      <td>1919.984846</td>\n",
       "      <td>1919.984846</td>\n",
       "      <td>2099.117195</td>\n",
       "      <td>1929.222427</td>\n",
       "      <td>1800.655118</td>\n",
       "    </tr>\n",
       "  </tbody>\n",
       "</table>\n",
       "</div>"
      ],
      "text/plain": [
       "               Sales       EWMA12        SES12     DESadd12     DESmul12  \\\n",
       "Quarter                                                                    \n",
       "Q1_86    1734.827000  1734.827000  1734.827000  1990.803901  1841.191728   \n",
       "Q2_86    2244.960999  1938.880600  1938.880600  2061.642626  1923.881686   \n",
       "Q3_86    2533.804993  2176.850357  2176.850357  2195.010187  2133.183228   \n",
       "Q4_86    2154.962997  2168.095413  2168.095413  2224.280352  2159.648232   \n",
       "Q1_87    1547.818996  1919.984846  1919.984846  2099.117195  1929.222427   \n",
       "\n",
       "            TESadd12  \n",
       "Quarter               \n",
       "Q1_86    1753.797680  \n",
       "Q2_86    2214.623543  \n",
       "Q3_86    2487.183098  \n",
       "Q4_86    2303.214445  \n",
       "Q1_87    1800.655118  "
      ]
     },
     "execution_count": 38,
     "metadata": {},
     "output_type": "execute_result"
    }
   ],
   "source": [
    "### Triple Exponential Smoothing ###\n",
    "\n",
    "df['TESadd12'] = ExponentialSmoothing(df['Sales'],trend='add',seasonal='add',seasonal_periods=12).fit().fittedvalues\n",
    "df.head()"
   ]
  },
  {
   "cell_type": "code",
   "execution_count": 39,
   "metadata": {},
   "outputs": [
    {
     "name": "stderr",
     "output_type": "stream",
     "text": [
      "C:\\Users\\oyedeepak\\Anaconda3\\lib\\site-packages\\statsmodels\\tsa\\base\\tsa_model.py:215: ValueWarning: An unsupported index was provided and will be ignored when e.g. forecasting.\n",
      "  ' ignored when e.g. forecasting.', ValueWarning)\n",
      "C:\\Users\\oyedeepak\\Anaconda3\\lib\\site-packages\\statsmodels\\tsa\\holtwinters.py:712: ConvergenceWarning: Optimization failed to converge. Check mle_retvals.\n",
      "  ConvergenceWarning)\n"
     ]
    },
    {
     "data": {
      "text/html": [
       "<div>\n",
       "<style scoped>\n",
       "    .dataframe tbody tr th:only-of-type {\n",
       "        vertical-align: middle;\n",
       "    }\n",
       "\n",
       "    .dataframe tbody tr th {\n",
       "        vertical-align: top;\n",
       "    }\n",
       "\n",
       "    .dataframe thead th {\n",
       "        text-align: right;\n",
       "    }\n",
       "</style>\n",
       "<table border=\"1\" class=\"dataframe\">\n",
       "  <thead>\n",
       "    <tr style=\"text-align: right;\">\n",
       "      <th></th>\n",
       "      <th>Sales</th>\n",
       "      <th>EWMA12</th>\n",
       "      <th>SES12</th>\n",
       "      <th>DESadd12</th>\n",
       "      <th>DESmul12</th>\n",
       "      <th>TESadd12</th>\n",
       "      <th>TESmul12</th>\n",
       "    </tr>\n",
       "    <tr>\n",
       "      <th>Quarter</th>\n",
       "      <th></th>\n",
       "      <th></th>\n",
       "      <th></th>\n",
       "      <th></th>\n",
       "      <th></th>\n",
       "      <th></th>\n",
       "      <th></th>\n",
       "    </tr>\n",
       "  </thead>\n",
       "  <tbody>\n",
       "    <tr>\n",
       "      <td>Q1_86</td>\n",
       "      <td>1734.827000</td>\n",
       "      <td>1734.827000</td>\n",
       "      <td>1734.827000</td>\n",
       "      <td>1990.803901</td>\n",
       "      <td>1841.191728</td>\n",
       "      <td>1753.797680</td>\n",
       "      <td>1822.183883</td>\n",
       "    </tr>\n",
       "    <tr>\n",
       "      <td>Q2_86</td>\n",
       "      <td>2244.960999</td>\n",
       "      <td>1938.880600</td>\n",
       "      <td>1938.880600</td>\n",
       "      <td>2061.642626</td>\n",
       "      <td>1923.881686</td>\n",
       "      <td>2214.623543</td>\n",
       "      <td>2233.555689</td>\n",
       "    </tr>\n",
       "    <tr>\n",
       "      <td>Q3_86</td>\n",
       "      <td>2533.804993</td>\n",
       "      <td>2176.850357</td>\n",
       "      <td>2176.850357</td>\n",
       "      <td>2195.010187</td>\n",
       "      <td>2133.183228</td>\n",
       "      <td>2487.183098</td>\n",
       "      <td>2482.236965</td>\n",
       "    </tr>\n",
       "    <tr>\n",
       "      <td>Q4_86</td>\n",
       "      <td>2154.962997</td>\n",
       "      <td>2168.095413</td>\n",
       "      <td>2168.095413</td>\n",
       "      <td>2224.280352</td>\n",
       "      <td>2159.648232</td>\n",
       "      <td>2303.214445</td>\n",
       "      <td>2297.368847</td>\n",
       "    </tr>\n",
       "    <tr>\n",
       "      <td>Q1_87</td>\n",
       "      <td>1547.818996</td>\n",
       "      <td>1919.984846</td>\n",
       "      <td>1919.984846</td>\n",
       "      <td>2099.117195</td>\n",
       "      <td>1929.222427</td>\n",
       "      <td>1800.655118</td>\n",
       "      <td>1868.580718</td>\n",
       "    </tr>\n",
       "  </tbody>\n",
       "</table>\n",
       "</div>"
      ],
      "text/plain": [
       "               Sales       EWMA12        SES12     DESadd12     DESmul12  \\\n",
       "Quarter                                                                    \n",
       "Q1_86    1734.827000  1734.827000  1734.827000  1990.803901  1841.191728   \n",
       "Q2_86    2244.960999  1938.880600  1938.880600  2061.642626  1923.881686   \n",
       "Q3_86    2533.804993  2176.850357  2176.850357  2195.010187  2133.183228   \n",
       "Q4_86    2154.962997  2168.095413  2168.095413  2224.280352  2159.648232   \n",
       "Q1_87    1547.818996  1919.984846  1919.984846  2099.117195  1929.222427   \n",
       "\n",
       "            TESadd12     TESmul12  \n",
       "Quarter                            \n",
       "Q1_86    1753.797680  1822.183883  \n",
       "Q2_86    2214.623543  2233.555689  \n",
       "Q3_86    2487.183098  2482.236965  \n",
       "Q4_86    2303.214445  2297.368847  \n",
       "Q1_87    1800.655118  1868.580718  "
      ]
     },
     "execution_count": 39,
     "metadata": {},
     "output_type": "execute_result"
    }
   ],
   "source": [
    "### Triple Exponential Smoothing ###\n",
    "\n",
    "df['TESmul12'] = ExponentialSmoothing(df['Sales'],trend='mul',seasonal='mul',seasonal_periods=12).fit().fittedvalues\n",
    "df.head()"
   ]
  },
  {
   "cell_type": "code",
   "execution_count": 40,
   "metadata": {},
   "outputs": [
    {
     "data": {
      "image/png": "[encoded data removed]",
      "text/plain": [
       "<Figure size 864x432 with 1 Axes>"
      ]
     },
     "metadata": {
      "needs_background": "light"
     },
     "output_type": "display_data"
    }
   ],
   "source": [
    "df[['Sales','TESadd12','TESmul12']].plot(figsize=(12,6)).autoscale(axis='x',tight=True);"
   ]
  },
  {
   "cell_type": "code",
   "execution_count": 41,
   "metadata": {},
   "outputs": [
    {
     "data": {
      "text/plain": [
       "42"
      ]
     },
     "execution_count": 41,
     "metadata": {},
     "output_type": "execute_result"
    }
   ],
   "source": [
    "len(df)"
   ]
  },
  {
   "cell_type": "code",
   "execution_count": 42,
   "metadata": {},
   "outputs": [
    {
     "data": {
      "text/html": [
       "<div>\n",
       "<style scoped>\n",
       "    .dataframe tbody tr th:only-of-type {\n",
       "        vertical-align: middle;\n",
       "    }\n",
       "\n",
       "    .dataframe tbody tr th {\n",
       "        vertical-align: top;\n",
       "    }\n",
       "\n",
       "    .dataframe thead th {\n",
       "        text-align: right;\n",
       "    }\n",
       "</style>\n",
       "<table border=\"1\" class=\"dataframe\">\n",
       "  <thead>\n",
       "    <tr style=\"text-align: right;\">\n",
       "      <th></th>\n",
       "      <th>Sales</th>\n",
       "      <th>EWMA12</th>\n",
       "      <th>SES12</th>\n",
       "      <th>DESadd12</th>\n",
       "      <th>DESmul12</th>\n",
       "      <th>TESadd12</th>\n",
       "      <th>TESmul12</th>\n",
       "    </tr>\n",
       "    <tr>\n",
       "      <th>Quarter</th>\n",
       "      <th></th>\n",
       "      <th></th>\n",
       "      <th></th>\n",
       "      <th></th>\n",
       "      <th></th>\n",
       "      <th></th>\n",
       "      <th></th>\n",
       "    </tr>\n",
       "  </thead>\n",
       "  <tbody>\n",
       "    <tr>\n",
       "      <td>Q1_86</td>\n",
       "      <td>1734.827000</td>\n",
       "      <td>1734.827000</td>\n",
       "      <td>1734.827000</td>\n",
       "      <td>1990.803901</td>\n",
       "      <td>1841.191728</td>\n",
       "      <td>1753.797680</td>\n",
       "      <td>1822.183883</td>\n",
       "    </tr>\n",
       "    <tr>\n",
       "      <td>Q2_86</td>\n",
       "      <td>2244.960999</td>\n",
       "      <td>1938.880600</td>\n",
       "      <td>1938.880600</td>\n",
       "      <td>2061.642626</td>\n",
       "      <td>1923.881686</td>\n",
       "      <td>2214.623543</td>\n",
       "      <td>2233.555689</td>\n",
       "    </tr>\n",
       "    <tr>\n",
       "      <td>Q3_86</td>\n",
       "      <td>2533.804993</td>\n",
       "      <td>2176.850357</td>\n",
       "      <td>2176.850357</td>\n",
       "      <td>2195.010187</td>\n",
       "      <td>2133.183228</td>\n",
       "      <td>2487.183098</td>\n",
       "      <td>2482.236965</td>\n",
       "    </tr>\n",
       "    <tr>\n",
       "      <td>Q4_86</td>\n",
       "      <td>2154.962997</td>\n",
       "      <td>2168.095413</td>\n",
       "      <td>2168.095413</td>\n",
       "      <td>2224.280352</td>\n",
       "      <td>2159.648232</td>\n",
       "      <td>2303.214445</td>\n",
       "      <td>2297.368847</td>\n",
       "    </tr>\n",
       "    <tr>\n",
       "      <td>Q1_87</td>\n",
       "      <td>1547.818996</td>\n",
       "      <td>1919.984846</td>\n",
       "      <td>1919.984846</td>\n",
       "      <td>2099.117195</td>\n",
       "      <td>1929.222427</td>\n",
       "      <td>1800.655118</td>\n",
       "      <td>1868.580718</td>\n",
       "    </tr>\n",
       "  </tbody>\n",
       "</table>\n",
       "</div>"
      ],
      "text/plain": [
       "               Sales       EWMA12        SES12     DESadd12     DESmul12  \\\n",
       "Quarter                                                                    \n",
       "Q1_86    1734.827000  1734.827000  1734.827000  1990.803901  1841.191728   \n",
       "Q2_86    2244.960999  1938.880600  1938.880600  2061.642626  1923.881686   \n",
       "Q3_86    2533.804993  2176.850357  2176.850357  2195.010187  2133.183228   \n",
       "Q4_86    2154.962997  2168.095413  2168.095413  2224.280352  2159.648232   \n",
       "Q1_87    1547.818996  1919.984846  1919.984846  2099.117195  1929.222427   \n",
       "\n",
       "            TESadd12     TESmul12  \n",
       "Quarter                            \n",
       "Q1_86    1753.797680  1822.183883  \n",
       "Q2_86    2214.623543  2233.555689  \n",
       "Q3_86    2487.183098  2482.236965  \n",
       "Q4_86    2303.214445  2297.368847  \n",
       "Q1_87    1800.655118  1868.580718  "
      ]
     },
     "execution_count": 42,
     "metadata": {},
     "output_type": "execute_result"
    }
   ],
   "source": [
    "df_mod = one = df.drop(df.tail(1).index,inplace=False) # drop last 1 rows\n",
    "df_mod.head()"
   ]
  },
  {
   "cell_type": "code",
   "execution_count": 43,
   "metadata": {},
   "outputs": [],
   "source": [
    "from sklearn.metrics import mean_squared_error"
   ]
  },
  {
   "cell_type": "code",
   "execution_count": 49,
   "metadata": {},
   "outputs": [],
   "source": [
    "r_ewma = np.sqrt(mean_squared_error(df_mod['Sales'], df_mod['EWMA12']))\n",
    "r_ses = np.sqrt(mean_squared_error(df_mod['Sales'], df_mod['SES12']))\n",
    "r_desadd = np.sqrt(mean_squared_error(df_mod['Sales'], df_mod['DESadd12']))\n",
    "r_desmul = np.sqrt(mean_squared_error(df_mod['Sales'], df_mod['DESmul12']))\n",
    "r_tesadd = np.sqrt(mean_squared_error(df_mod['Sales'], df_mod['TESadd12']))\n",
    "r_tesmul = np.sqrt(mean_squared_error(df_mod['Sales'], df_mod['TESmul12']))"
   ]
  },
  {
   "cell_type": "code",
   "execution_count": 50,
   "metadata": {},
   "outputs": [],
   "source": [
    "r_df = [['EWMA12', r_ewma], ['SES12', r_ses], ['DESadd12', r_desadd], ['DESmul12', r_desmul], ['TESadd12', r_tesadd], ['TESmul12', r_tesmul]]"
   ]
  },
  {
   "cell_type": "code",
   "execution_count": 53,
   "metadata": {},
   "outputs": [],
   "source": [
    "RMSE  = pd.DataFrame(r_df, columns = ['Model', 'RMSE']) \n"
   ]
  },
  {
   "cell_type": "code",
   "execution_count": 54,
   "metadata": {},
   "outputs": [
    {
     "data": {
      "text/html": [
       "<div>\n",
       "<style scoped>\n",
       "    .dataframe tbody tr th:only-of-type {\n",
       "        vertical-align: middle;\n",
       "    }\n",
       "\n",
       "    .dataframe tbody tr th {\n",
       "        vertical-align: top;\n",
       "    }\n",
       "\n",
       "    .dataframe thead th {\n",
       "        text-align: right;\n",
       "    }\n",
       "</style>\n",
       "<table border=\"1\" class=\"dataframe\">\n",
       "  <thead>\n",
       "    <tr style=\"text-align: right;\">\n",
       "      <th></th>\n",
       "      <th>Model</th>\n",
       "      <th>RMSE</th>\n",
       "    </tr>\n",
       "  </thead>\n",
       "  <tbody>\n",
       "    <tr>\n",
       "      <td>0</td>\n",
       "      <td>EWMA12</td>\n",
       "      <td>234.652876</td>\n",
       "    </tr>\n",
       "    <tr>\n",
       "      <td>1</td>\n",
       "      <td>SES12</td>\n",
       "      <td>234.652876</td>\n",
       "    </tr>\n",
       "    <tr>\n",
       "      <td>2</td>\n",
       "      <td>DESadd12</td>\n",
       "      <td>274.263110</td>\n",
       "    </tr>\n",
       "    <tr>\n",
       "      <td>3</td>\n",
       "      <td>DESmul12</td>\n",
       "      <td>258.677516</td>\n",
       "    </tr>\n",
       "    <tr>\n",
       "      <td>4</td>\n",
       "      <td>TESadd12</td>\n",
       "      <td>203.249407</td>\n",
       "    </tr>\n",
       "    <tr>\n",
       "      <td>5</td>\n",
       "      <td>TESmul12</td>\n",
       "      <td>164.591521</td>\n",
       "    </tr>\n",
       "  </tbody>\n",
       "</table>\n",
       "</div>"
      ],
      "text/plain": [
       "      Model        RMSE\n",
       "0    EWMA12  234.652876\n",
       "1     SES12  234.652876\n",
       "2  DESadd12  274.263110\n",
       "3  DESmul12  258.677516\n",
       "4  TESadd12  203.249407\n",
       "5  TESmul12  164.591521"
      ]
     },
     "execution_count": 54,
     "metadata": {},
     "output_type": "execute_result"
    }
   ],
   "source": [
    "RMSE"
   ]
  },
  {
   "cell_type": "code",
   "execution_count": null,
   "metadata": {},
   "outputs": [],
   "source": [
    "#So, from the above data, we can see that TESmul12 has least RMSE. Thus, TESmul12 is a very good model compared to others!"
   ]
  }
 ],
 "metadata": {
  "kernelspec": {
   "display_name": "Python 3",
   "language": "python",
   "name": "python3"
  },
  "language_info": {
   "codemirror_mode": {
    "name": "ipython",
    "version": 3
   },
   "file_extension": ".py",
   "mimetype": "text/x-python",
   "name": "python",
   "nbconvert_exporter": "python",
   "pygments_lexer": "ipython3",
   "version": "3.7.4"
  }
 },
 "nbformat": 4,
 "nbformat_minor": 2
}
